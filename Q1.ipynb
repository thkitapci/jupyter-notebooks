{
 "cells": [
  {
   "cell_type": "code",
   "execution_count": 2,
   "metadata": {
    "collapsed": false
   },
   "outputs": [],
   "source": [
    "import random\n",
    "import numpy as np"
   ]
  },
  {
   "cell_type": "code",
   "execution_count": 45,
   "metadata": {
    "collapsed": false
   },
   "outputs": [
    {
     "name": "stdout",
     "output_type": "stream",
     "text": [
      "N=21 mean = 24.9979310000 std = 19.2551844115\n",
      "N=1000 mean = 20.9858830000 std = 17.9887588708\n",
      "For N= 21 , P(score <=5 | we drew at least one \"8\" ) = 0.3000140000 \n",
      "For N= 1000 , P(score <=5 | we drew at least one \"8\" ) = 0.2439720000 \n",
      "A can be 1 or 11 , N= 21 mean = 23.0882750000 std = 19.4345224928\n",
      "A can be 1 or 11, N=1000 mean = 19.8012290000 std = 17.8630479227\n"
     ]
    }
   ],
   "source": [
    "def playJackBlack_modified(N):\n",
    "    mySum=0\n",
    "    score=0\n",
    "    \n",
    "    draws=np.random.randint(0,7, size=N) #generates N random numbers between 0 and 6 to be used for card values \n",
    "                                         # 2**0 = 1, 2**1=2, ... 2**6=64 \n",
    "    i=0\n",
    "    while(mySum<N):\n",
    "        if draws[i]!=0: \n",
    "            card_value=2**draws[i]\n",
    "            mySum+=card_value\n",
    "        else: \n",
    "            if N-mySum==1: #if you win by choosing 1 choose 1\n",
    "                card_value=1\n",
    "                mySum+=card_value\n",
    "            else: #otherwise always choose 11 \n",
    "                card_value=11    \n",
    "                mySum+=card_value\n",
    "        i+=1\n",
    "    score=mySum-N\n",
    "    return score\n",
    "\n",
    "def playJackBlack(N,starting_sum=0):\n",
    "    mySum=starting_sum\n",
    "    score=0\n",
    "    \n",
    "    draws=np.random.randint(0,7, size=N) #generates N random numbers between 0 and 6 to be used for card values \n",
    "                                         # 2**0 = 1, 2**1=2, ... 2**6=64 \n",
    "    i=0\n",
    "    while(mySum<N):\n",
    "        card_value=2**draws[i]\n",
    "        mySum+=card_value\n",
    "        i+=1\n",
    "    score=mySum-N\n",
    "    return score\n",
    "\n",
    "def simulate(number_of_games,N,starting_sum=0):\n",
    "    scores=[]\n",
    "    for i in xrange(number_of_games): #play the game 1,000,000 times\n",
    "        scores.append(playJackBlack(N))\n",
    "    return scores\n",
    "\n",
    "number_of_games=1000000\n",
    "np.random.seed(42) #Set a seed value for reproducibility of the results, remove the seed for a random output\n",
    "\n",
    "\n",
    "\n",
    "N=21\n",
    "scores=simulate(number_of_games,N)\n",
    "\n",
    "print \"N=%s mean = %.10f std = %.10f\" %(N,np.mean(scores),np.std(scores))\n",
    "\n",
    "\n",
    "N=1000\n",
    "scores=simulate(number_of_games,N)\n",
    "\n",
    "print \"N=%s mean = %.10f std = %.10f\" %(N,np.mean(scores),np.std(scores))\n",
    "\n",
    "#Calculate the conditional prob P(score <=5 | we drew at least one \"8\" )\n",
    "#for N=21\n",
    "N=21\n",
    "counter=0\n",
    "for i in xrange(number_of_games): #play the game 1,000,000 times\n",
    "    if(playJackBlack(N,8)<=5): #set the starting sum to 8 to satisfy the \"condition of 8 being drawn\"\n",
    "        counter+=1\n",
    "cond_probability=float(counter)/number_of_games\n",
    "print \"For N= %s , P(score <=5 | we drew at least one \\\"8\\\" ) = %.10f \" %(N,cond_probability)\n",
    "\n",
    "#calculate the same conditional probability for N=1000\n",
    "N=1000\n",
    "counter=0\n",
    "for i in xrange(number_of_games): #play the game 1,000,000 times\n",
    "    if(playJackBlack(N,8)<=5): #set the starting sum to 8 to satisfy the \"condition of 8 being drawn\"\n",
    "        counter+=1\n",
    "cond_probability=float(counter)/number_of_games\n",
    "print \"For N= %s , P(score <=5 | we drew at least one \\\"8\\\" ) = %.10f \" %(N,cond_probability)\n",
    "\n",
    "##Calculate the mean and variance if A can be 1 or 11\n",
    "\n",
    "N=21\n",
    "scores=[]\n",
    "for i in xrange(number_of_games): #play the game 1,000,000 times\n",
    "    scores.append(playJackBlack_modified(N))\n",
    "\n",
    "print \"A can be 1 or 11 , N= %s mean = %.10f std = %.10f\" %(N,np.mean(scores),np.std(scores))\n",
    " \n",
    "N=1000\n",
    "scores=[]\n",
    "for i in xrange(number_of_games): #play the game 1,000,000 times\n",
    "    scores.append(playJackBlack_modified(N))\n",
    "\n",
    "print \"A can be 1 or 11, N=%s mean = %.10f std = %.10f\" %(N,np.mean(scores),np.std(scores))\n",
    "\n"
   ]
  },
  {
   "cell_type": "code",
   "execution_count": null,
   "metadata": {
    "collapsed": true
   },
   "outputs": [],
   "source": [
    "\n",
    "#chooose 1 only if you win otherwise choose 11\n",
    "A can be 1 or 11 , N=21 mean = 23.081573 std = 19.4268956564\n",
    "A can be 1 or 11, N=1000 mean = 19.783876 std = 17.8586365778\n",
    "\n",
    "#choose 11 all the time\n",
    "A can be 1 or 11 , N=21 mean = 23.182065 std = 19.3468051454\n",
    "A can be 1 or 11, N=1000 mean = 19.875179 std = 17.8015142816\n",
    "\n",
    "Mean score for N=21 is 24.997931\n",
    "Standard deviation for N=21 is 19.2551844115\n",
    "Mean score for N=1000 is 20.985883\n",
    "Standard deviation for N=1000 is 17.9887588708\n",
    "For N= 21 , P(score <=5 | we drew at least one \"8\" ) = 0.3000140000 \n",
    "counter is 243972\n",
    "For N= 1000 , P(score <=5 | we drew at least one \"8\" ) = 0.2439720000 \n",
    "Modified game (A can be 1 or 11) Mean score for N=21 is 24.154203\n",
    "Modified game (A can be 1 or 11) Standard deviation for N=21 is 19.3275358087\n",
    "Modified game (A can be 1 or 11) Mean score for N=1000 is 20.440437\n",
    "Modified game (A can be 1 or 11) Standard deviation for N=1000 is 17.9100604759"
   ]
  },
  {
   "cell_type": "code",
   "execution_count": 30,
   "metadata": {
    "collapsed": false
   },
   "outputs": [],
   "source": [
    "#different strategies\n",
    "def playJackBlack_modified(N):\n",
    "    mySum=0\n",
    "    score=0\n",
    "    \n",
    "    draws=np.random.randint(0,7, size=N) #generates N random numbers between 0 and 6 to be used for card values \n",
    "                                         # 2**0 = 1, 2**1=2, ... 2**6=64 \n",
    "    i=0\n",
    "    while(mySum<N):\n",
    "        if draws[i]!=0: \n",
    "            card_value=2**draws[i]\n",
    "            mySum+=card_value\n",
    "        else: #we draw an A so choose 1 or 11 choose 1 or 11 with 50% probability\n",
    "#             choose=np.random.randint(0,2) #choose will be 0 or 1\n",
    "#             if choose:\n",
    "#                 card_value=1\n",
    "#                 mySum+=card_value\n",
    "#             else:\n",
    "#                 card_value=11\n",
    "#                 mySum+=card_value\n",
    "            \n",
    "    \n",
    "#             if N-mySum>=5: #1+11/2 = 6\n",
    "#                 card_value=11\n",
    "#                 mySum+=card_value\n",
    "#             else:\n",
    "#                 card_value=1\n",
    "#                 mySum+=card_value\n",
    "            if N-mySum==1: #if you win by choosing 1 choose 1\n",
    "                card_value=1\n",
    "                mySum+=card_value\n",
    "            else: #otherwise always choose 11 \n",
    "                card_value=11    \n",
    "                mySum+=card_value\n",
    "        i+=1\n",
    "    score=mySum-N\n",
    "    return score"
   ]
  },
  {
   "cell_type": "code",
   "execution_count": 44,
   "metadata": {
    "collapsed": false
   },
   "outputs": [
    {
     "name": "stdout",
     "output_type": "stream",
     "text": [
      "0.2439720000\n"
     ]
    }
   ],
   "source": [
    "print \"%.10f\" %(float(counter)/number_of_games)"
   ]
  },
  {
   "cell_type": "code",
   "execution_count": null,
   "metadata": {
    "collapsed": true
   },
   "outputs": [],
   "source": []
  }
 ],
 "metadata": {
  "kernelspec": {
   "display_name": "Python 2",
   "language": "python",
   "name": "python2"
  },
  "language_info": {
   "codemirror_mode": {
    "name": "ipython",
    "version": 2
   },
   "file_extension": ".py",
   "mimetype": "text/x-python",
   "name": "python",
   "nbconvert_exporter": "python",
   "pygments_lexer": "ipython2",
   "version": "2.7.11"
  }
 },
 "nbformat": 4,
 "nbformat_minor": 0
}
